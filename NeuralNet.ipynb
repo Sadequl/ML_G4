{
 "cells": [
  {
   "cell_type": "markdown",
   "id": "afedf031",
   "metadata": {},
   "source": [
    "# Import libraries:"
   ]
  },
  {
   "cell_type": "code",
   "execution_count": null,
   "id": "842a0470",
   "metadata": {},
   "outputs": [],
   "source": [
    "import pandas as pd\n",
    "import yfinance as yf\n",
    "from sklearn.model_selection import train_test_split\n",
    "from sklearn.preprocessing import MinMaxScaler\n",
    "from sklearn.metrics import mean_absolute_error, mean_squared_error, r2_score\n",
    "import matplotlib.pyplot as plt\n",
    "import tensorflow as tf\n",
    "from tensorflow.keras.models import Sequential\n",
    "from tensorflow.keras.layers import Dense"
   ]
  },
  {
   "cell_type": "markdown",
   "id": "c8e4ce73",
   "metadata": {},
   "source": [
    "# Collect historical stock data:"
   ]
  },
  {
   "cell_type": "code",
   "execution_count": null,
   "id": "9dc962f7",
   "metadata": {},
   "outputs": [],
   "source": [
    "def fetch_stock_data(ticker, start_date, end_date):\n",
    "    stock_data = yf.download(ticker, start=start_date, end=end_date)\n",
    "    return stock_data"
   ]
  },
  {
   "cell_type": "markdown",
   "id": "6921dd17",
   "metadata": {},
   "source": [
    "# Data Cleaning and Normalization"
   ]
  },
  {
   "cell_type": "code",
   "execution_count": null,
   "id": "709982fa",
   "metadata": {},
   "outputs": [],
   "source": [
    "def clean_and_normalize_data(data):\n",
    "    # Handle missing values\n",
    "    data = data.dropna()\n",
    "\n",
    "    # Normalize the data\n",
    "    scaler = MinMaxScaler()\n",
    "    normalized_data = scaler.fit_transform(data)\n",
    "\n",
    "    return normalized_data"
   ]
  },
  {
   "cell_type": "markdown",
   "id": "9208e76b",
   "metadata": {},
   "source": [
    "# Model Training"
   ]
  },
  {
   "cell_type": "code",
   "execution_count": null,
   "id": "12faebce",
   "metadata": {},
   "outputs": [],
   "source": [
    "def train_model(X_train, y_train):\n",
    "    model = Sequential()\n",
    "    model.add(Dense(64, input_dim=X_train.shape[1], activation='relu'))\n",
    "    model.add(Dense(32, activation='relu'))\n",
    "    model.add(Dense(1, activation='linear'))\n",
    "\n",
    "    model.compile(optimizer='adam', loss='mean_squared_error')\n",
    "    model.fit(X_train, y_train, epochs=50, batch_size=32, verbose=1)\n",
    "\n",
    "    return model"
   ]
  },
  {
   "cell_type": "markdown",
   "id": "635edd12",
   "metadata": {},
   "source": [
    "# Evaluation"
   ]
  },
  {
   "cell_type": "code",
   "execution_count": null,
   "id": "15093bb0",
   "metadata": {},
   "outputs": [],
   "source": [
    "def evaluate_model(model, X_test, y_test):\n",
    "    predictions = model.predict(X_test)\n",
    "    mae = mean_absolute_error(y_test, predictions)\n",
    "    mse = mean_squared_error(y_test, predictions)\n",
    "    r2 = r2_score(y_test, predictions)\n",
    "    return mae, mse, r2"
   ]
  },
  {
   "cell_type": "markdown",
   "id": "24f788a1",
   "metadata": {},
   "source": [
    "# Visualization"
   ]
  },
  {
   "cell_type": "code",
   "execution_count": null,
   "id": "e958cb25",
   "metadata": {},
   "outputs": [],
   "source": [
    "def visualize_predictions(actual, predicted):\n",
    "    plt.figure(figsize=(10, 6))\n",
    "    plt.plot(actual, label='Actual Prices', color='blue')\n",
    "    plt.plot(predicted, label='Predicted Prices', color='red')\n",
    "    plt.title('Stock Price Prediction')\n",
    "    plt.xlabel('Days')\n",
    "    plt.ylabel('Stock Price')\n",
    "    plt.legend()\n",
    "    plt.show()"
   ]
  },
  {
   "cell_type": "markdown",
   "id": "b49e72d9",
   "metadata": {},
   "source": [
    "# Main Execution"
   ]
  },
  {
   "cell_type": "code",
   "execution_count": null,
   "id": "d68680c1",
   "metadata": {
    "scrolled": false
   },
   "outputs": [],
   "source": [
    "# Example usage\n",
    "ticker = \"AAPL\"\n",
    "start_date = \"2022-01-01\"\n",
    "end_date = \"2023-01-01\"\n",
    "\n",
    "# Fetch and clean data\n",
    "stock_data = fetch_stock_data(ticker, start_date, end_date)\n",
    "normalized_data = clean_and_normalize_data(stock_data)\n",
    "\n",
    "# Prepare features and target variable\n",
    "X = normalized_data[:-1]  # Features\n",
    "y = normalized_data[1:, 0]  # Target variable (next day's closing price)\n",
    "\n",
    "# Split the data into training and testing sets\n",
    "X_train, X_test, y_train, y_test = train_test_split(X, y, test_size=0.2, random_state=42)\n",
    "\n",
    "# Train the model\n",
    "model = train_model(X_train, y_train)\n",
    "\n",
    "# Evaluate the model\n",
    "mae, mse, r2 = evaluate_model(model, X_test, y_test)\n",
    "print(f\"Mean Absolute Error: {mae}\")\n",
    "print(f\"Mean Squared Error: {mse}\")\n",
    "print(f\"R2 Score: {r2}\")\n",
    "\n",
    "# Visualize predictions\n",
    "predictions = model.predict(X_test).flatten()\n",
    "visualize_predictions(y_test, predictions)"
   ]
  },
  {
   "cell_type": "markdown",
   "id": "ba51066f",
   "metadata": {},
   "source": [
    "# Residual Plot: To identify patterns or trends in the errors."
   ]
  },
  {
   "cell_type": "code",
   "execution_count": null,
   "id": "5662d282",
   "metadata": {},
   "outputs": [],
   "source": [
    "def plot_residuals_nn(model, X_test, y_test):\n",
    "    predictions = model.predict(X_test).flatten()  # Flatten predictions\n",
    "    residuals = y_test - predictions\n",
    "\n",
    "    plt.figure(figsize=(10, 6))\n",
    "    plt.scatter(predictions, residuals, alpha=0.5)\n",
    "    plt.title('Residual Plot (Neural Network)')\n",
    "    plt.xlabel('Predicted Values')\n",
    "    plt.ylabel('Residuals')\n",
    "    plt.axhline(y=0, color='r', linestyle='--')\n",
    "    plt.show()\n",
    "    \n",
    "# Plot residuals for the neural network\n",
    "plot_residuals_nn(model, X_test, y_test)"
   ]
  },
  {
   "cell_type": "markdown",
   "id": "6ccbad75",
   "metadata": {},
   "source": [
    "# Distribution of Residuals: To  check if they follow a normal distribution."
   ]
  },
  {
   "cell_type": "code",
   "execution_count": null,
   "id": "62d9462c",
   "metadata": {},
   "outputs": [],
   "source": [
    "def plot_residuals_distribution_nn(model, X_test, y_test):\n",
    "    predictions = model.predict(X_test).flatten()\n",
    "    residuals = y_test - predictions\n",
    "\n",
    "    plt.figure(figsize=(10, 6))\n",
    "    plt.hist(residuals, bins=30, edgecolor='k')\n",
    "    plt.title('Distribution of Residuals (Neural Network)')\n",
    "    plt.xlabel('Residuals')\n",
    "    plt.ylabel('Frequency')\n",
    "    plt.show()\n",
    "    \n",
    "# Plot residuals distribution for the neural network\n",
    "plot_residuals_distribution_nn(model, X_test, y_test)"
   ]
  },
  {
   "cell_type": "markdown",
   "id": "b7151f88",
   "metadata": {},
   "source": [
    "# Cumulative Returns: To visualize cumulative returns based on predicted stock price movements."
   ]
  },
  {
   "cell_type": "code",
   "execution_count": null,
   "id": "e16dbccb",
   "metadata": {},
   "outputs": [],
   "source": [
    "def plot_cumulative_returns_nn(model, X_test, y_test):\n",
    "    predictions = model.predict(X_test).flatten()\n",
    "    cumulative_returns_actual = (y_test / y_test[0] - 1).cumsum()\n",
    "    cumulative_returns_predicted = (predictions / y_test[0] - 1).cumsum()\n",
    "\n",
    "    plt.figure(figsize=(10, 6))\n",
    "    plt.plot(cumulative_returns_actual, label='Actual Returns', color='blue')\n",
    "    plt.plot(cumulative_returns_predicted, label='Predicted Returns', color='red')\n",
    "    plt.title('Cumulative Returns (Neural Network)')\n",
    "    plt.xlabel('Days')\n",
    "    plt.ylabel('Cumulative Returns')\n",
    "    plt.legend()\n",
    "    plt.show()\n",
    "\n",
    "# Plot cumulative returns for the neural network\n",
    "plot_cumulative_returns_nn(model, X_test, y_test)"
   ]
  },
  {
   "cell_type": "code",
   "execution_count": null,
   "id": "74c01dd9",
   "metadata": {},
   "outputs": [],
   "source": []
  }
 ],
 "metadata": {
  "kernelspec": {
   "display_name": "Python 3 (ipykernel)",
   "language": "python",
   "name": "python3"
  },
  "language_info": {
   "codemirror_mode": {
    "name": "ipython",
    "version": 3
   },
   "file_extension": ".py",
   "mimetype": "text/x-python",
   "name": "python",
   "nbconvert_exporter": "python",
   "pygments_lexer": "ipython3",
   "version": "3.11.5"
  }
 },
 "nbformat": 4,
 "nbformat_minor": 5
}
